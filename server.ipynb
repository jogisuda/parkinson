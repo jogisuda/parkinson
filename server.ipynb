{
  "nbformat": 4,
  "nbformat_minor": 0,
  "metadata": {
    "colab": {
      "name": "server.ipynb",
      "provenance": []
    },
    "kernelspec": {
      "name": "python3",
      "display_name": "Python 3"
    }
  },
  "cells": [
    {
      "cell_type": "code",
      "metadata": {
        "id": "QDiasPT6yXoI",
        "colab_type": "code",
        "colab": {}
      },
      "source": [
        "from flask import Flask, request, jsonify\n",
        "import os\n",
        "import random\n",
        "from arquivodomodelo import Modelo\n",
        "\n",
        "app = Flask(__name__)\n",
        "\n",
        "\n",
        "\"\"\"\n",
        "endpoint = 'a.com/predict'\n",
        "\"\"\"\n",
        "\n",
        "@app.route(\"/predict\", methods=[\"POST\"])\n",
        "\n",
        "def predict():\n",
        "    \n",
        "    #recebe o arquivo de áudio\n",
        "    \n",
        "    audio_file = request.files[\"file\"]\n",
        "    file_name = str(random.randint(0, 1000000))\n",
        "    audio_file.save(file_name)\n",
        "    \n",
        "    #invoca o modelo de previsão (padrão singleton de classe)\n",
        "    \n",
        "    modelo = modelo_voz()\n",
        "    \n",
        "    #fazer previsão\n",
        "    \n",
        "    result = modelo.predict(file_name)\n",
        "    \n",
        "    #remove o arquivo de audio\n",
        "    \n",
        "    os.remove(file_name)\n",
        "    \n",
        "    #manda de volta a previsão em json\n",
        "    \n",
        "    dados = {\"resultado\": result}\n",
        "    \n",
        "    return jsonify(dados)\n",
        "    \n",
        "if __name__ == \"__main__\":\n",
        "    app.run(debug=False)"
      ],
      "execution_count": null,
      "outputs": []
    }
  ]
}