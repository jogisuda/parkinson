{
  "nbformat": 4,
  "nbformat_minor": 0,
  "metadata": {
    "colab": {
      "name": "extraçãoImagem.ipynb",
      "provenance": []
    },
    "kernelspec": {
      "name": "python3",
      "display_name": "Python 3"
    }
  },
  "cells": [
    {
      "cell_type": "code",
      "metadata": {
        "id": "4Z8sxjV4yduA",
        "colab_type": "code",
        "colab": {}
      },
      "source": [
        "import pandas as pd\n",
        "import numpy as np\n",
        "from sklearn.model_selection import cross_val_score\n",
        "from sklearn.svm import LinearSVC\n",
        "from sklearn.preprocessing import StandardScaler"
      ],
      "execution_count": 1,
      "outputs": []
    },
    {
      "cell_type": "markdown",
      "metadata": {
        "id": "8r6alAhemSlL",
        "colab_type": "text"
      },
      "source": [
        "Comando abaixo é pra eu conseguir acessar meu drive do Google, porque programo usando o colab, que é uma plataforma deles pra programar em python online mesmo. Os dados dos pacientes estão salvos todos lá, então preciso de acesso"
      ]
    },
    {
      "cell_type": "code",
      "metadata": {
        "id": "BnZGT0iJyhGf",
        "colab_type": "code",
        "colab": {}
      },
      "source": [
        "from google.colab import drive\n",
        "drive.mount('/content/gdrive', force_remount=True)\n",
        "root_dir = \"/content/gdrive/My Drive/\"\n",
        "base_dir = root_dir + \"Colab Notebooks/parkinson/\""
      ],
      "execution_count": null,
      "outputs": []
    },
    {
      "cell_type": "markdown",
      "metadata": {
        "id": "qhcWNZopymr6",
        "colab_type": "text"
      },
      "source": [
        "**A parte principal do treinamento de qualquer modelo de machine learning é carregar os dados que farão nosso modelo 'aprender'. Os dados das imagens no nosso caso são armazenados em uma tabela: cada linha representa um paciente, e cada coluna representa uma medida que foi calculada a partir do exame (chamamos de característica, ou *feature*, na terminologia)**"
      ]
    },
    {
      "cell_type": "code",
      "metadata": {
        "id": "XbR2LXFnykWA",
        "colab_type": "code",
        "colab": {}
      },
      "source": [
        "#dfSpiral então é nossa tabela\n",
        "dfSpiral = pd.read_csv(base_dir + 'NewSpiral.csv')"
      ],
      "execution_count": 5,
      "outputs": []
    },
    {
      "cell_type": "code",
      "metadata": {
        "id": "r1FpaAq_0zRg",
        "colab_type": "code",
        "colab": {
          "base_uri": "https://localhost:8080/",
          "height": 241
        },
        "outputId": "939dab1e-8e54-43d9-b47d-5df4ec2b4eea"
      },
      "source": [
        "#head() imprime um pouco da tabela pra termos uma noção de como são os dados\n",
        "dfSpiral.head()"
      ],
      "execution_count": 6,
      "outputs": [
        {
          "output_type": "execute_result",
          "data": {
            "text/html": [
              "<div>\n",
              "<style scoped>\n",
              "    .dataframe tbody tr th:only-of-type {\n",
              "        vertical-align: middle;\n",
              "    }\n",
              "\n",
              "    .dataframe tbody tr th {\n",
              "        vertical-align: top;\n",
              "    }\n",
              "\n",
              "    .dataframe thead th {\n",
              "        text-align: right;\n",
              "    }\n",
              "</style>\n",
              "<table border=\"1\" class=\"dataframe\">\n",
              "  <thead>\n",
              "    <tr style=\"text-align: right;\">\n",
              "      <th></th>\n",
              "      <th>_ID_EXAM</th>\n",
              "      <th>IMAGE_NAME</th>\n",
              "      <th>ID_PATIENT</th>\n",
              "      <th>CLASS_TYPE</th>\n",
              "      <th>GENDER</th>\n",
              "      <th>RIGH/LEFT-HANDED</th>\n",
              "      <th>AGE</th>\n",
              "      <th>RMS</th>\n",
              "      <th>MAX_BETWEEN_ET_HT</th>\n",
              "      <th>MIN_BETWEEN_ET_HT</th>\n",
              "      <th>STD_DEVIATION_ET_HT</th>\n",
              "      <th>MRT</th>\n",
              "      <th>MAX_HT</th>\n",
              "      <th>MIN_HT</th>\n",
              "      <th>STD_HT</th>\n",
              "      <th>CHANGES_FROM_NEGATIVE_TO_POSITIVE_BETWEEN_ET_HT</th>\n",
              "    </tr>\n",
              "  </thead>\n",
              "  <tbody>\n",
              "    <tr>\n",
              "      <th>0</th>\n",
              "      <td>H1</td>\n",
              "      <td>sp1-H1.jpg</td>\n",
              "      <td>59</td>\n",
              "      <td>1</td>\n",
              "      <td>M</td>\n",
              "      <td>R</td>\n",
              "      <td>58</td>\n",
              "      <td>14900.772670</td>\n",
              "      <td>13207.241210</td>\n",
              "      <td>40856.39894</td>\n",
              "      <td>0.087041</td>\n",
              "      <td>56.978320</td>\n",
              "      <td>192.737170</td>\n",
              "      <td>0.026662</td>\n",
              "      <td>4394.307090</td>\n",
              "      <td>0.120773</td>\n",
              "    </tr>\n",
              "    <tr>\n",
              "      <th>1</th>\n",
              "      <td>H2</td>\n",
              "      <td>sp1-H2.jpg</td>\n",
              "      <td>76</td>\n",
              "      <td>1</td>\n",
              "      <td>M</td>\n",
              "      <td>R</td>\n",
              "      <td>60</td>\n",
              "      <td>6076.106534</td>\n",
              "      <td>9440.754502</td>\n",
              "      <td>36137.73814</td>\n",
              "      <td>0.065872</td>\n",
              "      <td>39.597318</td>\n",
              "      <td>169.753376</td>\n",
              "      <td>0.266595</td>\n",
              "      <td>2031.447046</td>\n",
              "      <td>0.172414</td>\n",
              "    </tr>\n",
              "    <tr>\n",
              "      <th>2</th>\n",
              "      <td>H3</td>\n",
              "      <td>sp1-H3.jpg</td>\n",
              "      <td>301</td>\n",
              "      <td>1</td>\n",
              "      <td>F</td>\n",
              "      <td>R</td>\n",
              "      <td>56</td>\n",
              "      <td>12220.462340</td>\n",
              "      <td>12247.263300</td>\n",
              "      <td>39871.73569</td>\n",
              "      <td>0.000000</td>\n",
              "      <td>46.183810</td>\n",
              "      <td>192.536776</td>\n",
              "      <td>0.007857</td>\n",
              "      <td>3843.754479</td>\n",
              "      <td>0.123894</td>\n",
              "    </tr>\n",
              "    <tr>\n",
              "      <th>3</th>\n",
              "      <td>H4</td>\n",
              "      <td>sp1-H4.jpg</td>\n",
              "      <td>102</td>\n",
              "      <td>1</td>\n",
              "      <td>M</td>\n",
              "      <td>R</td>\n",
              "      <td>24</td>\n",
              "      <td>4810.072073</td>\n",
              "      <td>4904.029458</td>\n",
              "      <td>32262.38975</td>\n",
              "      <td>0.044374</td>\n",
              "      <td>31.485790</td>\n",
              "      <td>200.401229</td>\n",
              "      <td>0.114530</td>\n",
              "      <td>1586.941716</td>\n",
              "      <td>0.162011</td>\n",
              "    </tr>\n",
              "    <tr>\n",
              "      <th>4</th>\n",
              "      <td>H5</td>\n",
              "      <td>sp1-H5.jpg</td>\n",
              "      <td>305</td>\n",
              "      <td>1</td>\n",
              "      <td>M</td>\n",
              "      <td>R</td>\n",
              "      <td>79</td>\n",
              "      <td>5458.875925</td>\n",
              "      <td>5911.591981</td>\n",
              "      <td>31795.46792</td>\n",
              "      <td>0.040906</td>\n",
              "      <td>47.231442</td>\n",
              "      <td>134.897863</td>\n",
              "      <td>0.026703</td>\n",
              "      <td>2251.866128</td>\n",
              "      <td>0.202899</td>\n",
              "    </tr>\n",
              "  </tbody>\n",
              "</table>\n",
              "</div>"
            ],
            "text/plain": [
              "  _ID_EXAM  ... CHANGES_FROM_NEGATIVE_TO_POSITIVE_BETWEEN_ET_HT\n",
              "0       H1  ...                                        0.120773\n",
              "1       H2  ...                                        0.172414\n",
              "2       H3  ...                                        0.123894\n",
              "3       H4  ...                                        0.162011\n",
              "4       H5  ...                                        0.202899\n",
              "\n",
              "[5 rows x 16 columns]"
            ]
          },
          "metadata": {
            "tags": []
          },
          "execution_count": 6
        }
      ]
    },
    {
      "cell_type": "code",
      "metadata": {
        "id": "HLT380um1H87",
        "colab_type": "code",
        "colab": {}
      },
      "source": [
        "#eliminamos algumas características não-numéricas abaixo\n",
        "dfSpiral.drop(columns=['_ID_EXAM', 'IMAGE_NAME', 'ID_PATIENT', 'GENDER', 'RIGH/LEFT-HANDED'], inplace=True)"
      ],
      "execution_count": 7,
      "outputs": []
    },
    {
      "cell_type": "markdown",
      "metadata": {
        "id": "JqhtWhwv1aOZ",
        "colab_type": "text"
      },
      "source": [
        "**Vamos visualizar de novo**"
      ]
    },
    {
      "cell_type": "code",
      "metadata": {
        "id": "BLcuFYHg1Zil",
        "colab_type": "code",
        "colab": {
          "base_uri": "https://localhost:8080/",
          "height": 224
        },
        "outputId": "ddeae884-12db-416b-f27a-a0f23d8cb23f"
      },
      "source": [
        "dfSpiral.head()"
      ],
      "execution_count": 8,
      "outputs": [
        {
          "output_type": "execute_result",
          "data": {
            "text/html": [
              "<div>\n",
              "<style scoped>\n",
              "    .dataframe tbody tr th:only-of-type {\n",
              "        vertical-align: middle;\n",
              "    }\n",
              "\n",
              "    .dataframe tbody tr th {\n",
              "        vertical-align: top;\n",
              "    }\n",
              "\n",
              "    .dataframe thead th {\n",
              "        text-align: right;\n",
              "    }\n",
              "</style>\n",
              "<table border=\"1\" class=\"dataframe\">\n",
              "  <thead>\n",
              "    <tr style=\"text-align: right;\">\n",
              "      <th></th>\n",
              "      <th>CLASS_TYPE</th>\n",
              "      <th>AGE</th>\n",
              "      <th>RMS</th>\n",
              "      <th>MAX_BETWEEN_ET_HT</th>\n",
              "      <th>MIN_BETWEEN_ET_HT</th>\n",
              "      <th>STD_DEVIATION_ET_HT</th>\n",
              "      <th>MRT</th>\n",
              "      <th>MAX_HT</th>\n",
              "      <th>MIN_HT</th>\n",
              "      <th>STD_HT</th>\n",
              "      <th>CHANGES_FROM_NEGATIVE_TO_POSITIVE_BETWEEN_ET_HT</th>\n",
              "    </tr>\n",
              "  </thead>\n",
              "  <tbody>\n",
              "    <tr>\n",
              "      <th>0</th>\n",
              "      <td>1</td>\n",
              "      <td>58</td>\n",
              "      <td>14900.772670</td>\n",
              "      <td>13207.241210</td>\n",
              "      <td>40856.39894</td>\n",
              "      <td>0.087041</td>\n",
              "      <td>56.978320</td>\n",
              "      <td>192.737170</td>\n",
              "      <td>0.026662</td>\n",
              "      <td>4394.307090</td>\n",
              "      <td>0.120773</td>\n",
              "    </tr>\n",
              "    <tr>\n",
              "      <th>1</th>\n",
              "      <td>1</td>\n",
              "      <td>60</td>\n",
              "      <td>6076.106534</td>\n",
              "      <td>9440.754502</td>\n",
              "      <td>36137.73814</td>\n",
              "      <td>0.065872</td>\n",
              "      <td>39.597318</td>\n",
              "      <td>169.753376</td>\n",
              "      <td>0.266595</td>\n",
              "      <td>2031.447046</td>\n",
              "      <td>0.172414</td>\n",
              "    </tr>\n",
              "    <tr>\n",
              "      <th>2</th>\n",
              "      <td>1</td>\n",
              "      <td>56</td>\n",
              "      <td>12220.462340</td>\n",
              "      <td>12247.263300</td>\n",
              "      <td>39871.73569</td>\n",
              "      <td>0.000000</td>\n",
              "      <td>46.183810</td>\n",
              "      <td>192.536776</td>\n",
              "      <td>0.007857</td>\n",
              "      <td>3843.754479</td>\n",
              "      <td>0.123894</td>\n",
              "    </tr>\n",
              "    <tr>\n",
              "      <th>3</th>\n",
              "      <td>1</td>\n",
              "      <td>24</td>\n",
              "      <td>4810.072073</td>\n",
              "      <td>4904.029458</td>\n",
              "      <td>32262.38975</td>\n",
              "      <td>0.044374</td>\n",
              "      <td>31.485790</td>\n",
              "      <td>200.401229</td>\n",
              "      <td>0.114530</td>\n",
              "      <td>1586.941716</td>\n",
              "      <td>0.162011</td>\n",
              "    </tr>\n",
              "    <tr>\n",
              "      <th>4</th>\n",
              "      <td>1</td>\n",
              "      <td>79</td>\n",
              "      <td>5458.875925</td>\n",
              "      <td>5911.591981</td>\n",
              "      <td>31795.46792</td>\n",
              "      <td>0.040906</td>\n",
              "      <td>47.231442</td>\n",
              "      <td>134.897863</td>\n",
              "      <td>0.026703</td>\n",
              "      <td>2251.866128</td>\n",
              "      <td>0.202899</td>\n",
              "    </tr>\n",
              "  </tbody>\n",
              "</table>\n",
              "</div>"
            ],
            "text/plain": [
              "   CLASS_TYPE  ...  CHANGES_FROM_NEGATIVE_TO_POSITIVE_BETWEEN_ET_HT\n",
              "0           1  ...                                         0.120773\n",
              "1           1  ...                                         0.172414\n",
              "2           1  ...                                         0.123894\n",
              "3           1  ...                                         0.162011\n",
              "4           1  ...                                         0.202899\n",
              "\n",
              "[5 rows x 11 columns]"
            ]
          },
          "metadata": {
            "tags": []
          },
          "execution_count": 8
        }
      ]
    },
    {
      "cell_type": "markdown",
      "metadata": {
        "id": "kuFLey4X1nR8",
        "colab_type": "text"
      },
      "source": [
        "**Eliminamos as colunas com features não-numéricas. Prosseguimos com a parte do treinamento. Usaremos um algoritmo clássico de machine learning chamado de Support Vector Machine. Esse vídeo explica a ideia das SVM's bem intuitivo: https://www.youtube.com/watch?v=Y6RRHw9uN9o**"
      ]
    },
    {
      "cell_type": "code",
      "metadata": {
        "id": "tt6weK431edW",
        "colab_type": "code",
        "colab": {
          "base_uri": "https://localhost:8080/",
          "height": 51
        },
        "outputId": "9c9b2499-567e-4da4-9bae-77959eddc7b0"
      },
      "source": [
        "#transformamos nossa tabela em outra que é exatamente igual, \n",
        "#só que o 'numpy' permite fazer operações com muito mais eficácia.\n",
        "TRAIN = np.array(dfSpiral)\n",
        "\n",
        "#abaixo separamos nossa matriz em características (parte numérica), \n",
        "#e rótulo (patológico/saudável)\n",
        "X = TRAIN[:, 1:] #uma matriz com todas as features numéricas\n",
        "Y = TRAIN[:, 0] #uma matriz com apenas 1 coluna (vetor), sendo essa coluna o diagnostico e cada paciente\n",
        "\n",
        "X = StandardScaler().fit_transform(X) #normaliza features (importante no caso do algoritmo de aprendizado escolhido).\n",
        "SVC = LinearSVC(dual=False)\n",
        "\n",
        "scoresSVC = cross_val_score(SVC, X, Y, cv=9, scoring=\"accuracy\") # testamos acurácias do nosso modelo\n",
        "\n",
        "print(scoresSVC)"
      ],
      "execution_count": 10,
      "outputs": [
        {
          "output_type": "stream",
          "text": [
            "[0.73333333 0.96666667 0.8        0.75862069 0.68965517 0.82758621\n",
            " 0.72413793 0.72413793 0.86206897]\n"
          ],
          "name": "stdout"
        }
      ]
    },
    {
      "cell_type": "code",
      "metadata": {
        "id": "xM84sT1j5Aje",
        "colab_type": "code",
        "colab": {}
      },
      "source": [
        "import joblib #importante isso aqui, serve pra gente exportar nosso modelo pro disco depois de treinar ele.\n",
        "\n",
        "SVC.fit(X, Y) #aqui estamos falando para o nosso modelo de fato 'aprender' com nossos dados\n",
        "\n",
        "filename = 'SVMSpiral.joblib'\n",
        "joblib.dump(SVC, base_dir + filename)"
      ],
      "execution_count": null,
      "outputs": []
    },
    {
      "cell_type": "markdown",
      "metadata": {
        "id": "YYRPWgGqoKCH",
        "colab_type": "text"
      },
      "source": [
        "**Pronto, modelo exportado. Quando formos fazer nossas previsões online, basta carregarmos esse arquivo. A mesma lógica é aplicada pros outros classificadores: realizamos o treinamento deles, e depois exportamos o modelo para o deploy.**"
      ]
    }
  ]
}